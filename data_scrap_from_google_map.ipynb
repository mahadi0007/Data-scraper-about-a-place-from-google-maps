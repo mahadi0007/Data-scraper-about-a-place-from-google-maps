{
  "nbformat": 4,
  "nbformat_minor": 0,
  "metadata": {
    "colab": {
      "name": "data scrap from google map.ipynb",
      "provenance": [],
      "authorship_tag": "ABX9TyOwZ5enBHmcDHYe7SN4Uc0k"
    },
    "kernelspec": {
      "name": "python3",
      "display_name": "Python 3"
    },
    "language_info": {
      "name": "python"
    }
  },
  "cells": [
    {
      "cell_type": "code",
      "source": [
        "# importing required modules\n",
        "import pandas as pd\n",
        "import requests, json\n",
        "\n",
        "# enter your api key here\n",
        "api_key = 'enter your api key here'\n",
        "\n",
        "# variable store url\n",
        "url = \"https://maps.googleapis.com/maps/api/place/details/json?\"\n",
        "\n",
        "# search query\n",
        "query = input('Enter your query: ')\n",
        "\n",
        "# get method of requests module return response object\n",
        "r = requests.get(url + 'query=' + query + '&key=' + api_key)\n",
        "\n",
        "# json method of response object convert json into python data\n",
        "x = r.json()\n",
        "# print(x)\n",
        "\n",
        "# store the value of result key in variable y\n",
        "y = x['results']\n",
        "\n",
        "names=[]\n",
        "lat=[]\n",
        "lng=[]\n",
        "ratings=[]\n",
        "numOfReviews=[]\n",
        "affluence_price=[]\n",
        "\n",
        "# keep looping until end of y\n",
        "for i in range(len(y)):\n",
        "\t# name\n",
        "  names.append(y[i]['name'])\n",
        "  # print(names)\n",
        "\n",
        "  # Latitude\n",
        "  lat.append(y[i]['geometry']['location']['lat'])\n",
        "\n",
        "  # print(lat)\n",
        "\n",
        "  # Longitude\n",
        "  lng.append(y[i]['geometry']['location']['lng'])\n",
        "  # print(lng)\n",
        "  \n",
        "  # ratings\n",
        "  ratings.append(y[i]['rating'])\n",
        "  # print(ratings)\n",
        "\n",
        "  # number of reviews\n",
        "  numOfReviews.append(len(y[i]['reviews']))\n",
        "  # print(numOfReviews)\n",
        "\n",
        "  # affluence level/Price\n",
        "  affluence_price.append(y[i]['price_level'])\n",
        "  # print(affluence_price)\n",
        "\n",
        "# dictionary of lists\n",
        "dict = {'name': names, 'Latitude': lat, 'Longitude': lng, 'ratings': ratings, 'number of reviews': numOfReviews, 'affluence': affluence_price}\n",
        "\t\n",
        "df = pd.DataFrame(dict)\n",
        "print (df)\n",
        "\n",
        "# saving the dataframe\n",
        "df.to_csv('file1.csv')"
      ],
      "metadata": {
        "id": "rLHf-Gdp74Fz"
      },
      "execution_count": null,
      "outputs": []
    }
  ]
}